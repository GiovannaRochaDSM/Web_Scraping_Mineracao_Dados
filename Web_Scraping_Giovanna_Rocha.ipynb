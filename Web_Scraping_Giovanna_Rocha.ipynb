{
  "nbformat": 4,
  "nbformat_minor": 0,
  "metadata": {
    "colab": {
      "provenance": [],
      "authorship_tag": "ABX9TyNPkkeMoZwmQizTwaLmwVMb",
      "include_colab_link": true
    },
    "kernelspec": {
      "name": "python3",
      "display_name": "Python 3"
    },
    "language_info": {
      "name": "python"
    }
  },
  "cells": [
    {
      "cell_type": "markdown",
      "metadata": {
        "id": "view-in-github",
        "colab_type": "text"
      },
      "source": [
        "<a href=\"https://colab.research.google.com/github/GiovannaRochaDSM/Web_Scraping_Mineracao_Dados/blob/master/Web_Scraping_Giovanna_Rocha.ipynb\" target=\"_parent\"><img src=\"https://colab.research.google.com/assets/colab-badge.svg\" alt=\"Open In Colab\"/></a>"
      ]
    },
    {
      "cell_type": "markdown",
      "source": [
        "# **Atividade de Web Scraping - 19/10/2024**\n",
        "\n",
        "#### **Giovanna da Rocha Machado - RA: 1131392213024**\n",
        "\n",
        "---------------------------------\n",
        "\n",
        "\n",
        "URL do site - Books (Romance)\n",
        "- https://books.toscrape.com/catalogue/category/books/romance_8/index.html\n",
        "\n",
        "\n",
        "\n",
        "A partir do web scrapping do site acima, vamos obter os dados abaixo:\n",
        "\n",
        "**1.** Preço médio dos livros: Mostra o preço médio de todos os livros listados.\n",
        "\n",
        "**2.** Contagem de livros disponíveis: Informa quantos livros estão disponíveis no estoque.\n",
        "\n",
        "**3.** Livros mais caros: Exibe os 3 livros com os preços mais altos na lista\n",
        "\n",
        "\n",
        "Vamos começar!"
      ],
      "metadata": {
        "id": "jy6tND5Swmdj"
      }
    },
    {
      "cell_type": "code",
      "execution_count": null,
      "metadata": {
        "id": "kUh5C02uWAv4"
      },
      "outputs": [],
      "source": [
        "# Importação de libs\n",
        "import requests\n",
        "from bs4 import BeautifulSoup"
      ]
    },
    {
      "cell_type": "code",
      "source": [
        "# URL do site e headers do navegador\n",
        "url = 'https://books.toscrape.com/catalogue/category/books/romance_8/index.html'\n",
        "headers = {\"User-Agent\": \"Mozilla/5.0 (iPhone; CPU iPhone OS 16_6 like Mac OS X) AppleWebKit/605.1.15 (KHTML, like Gecko) Version/16.6 Mobile/15E148 Safari/604.1\"}"
      ],
      "metadata": {
        "id": "sTDTd711WLzK"
      },
      "execution_count": null,
      "outputs": []
    },
    {
      "cell_type": "code",
      "source": [
        "# Requisição para a URL\n",
        "response = requests.get(url, headers=headers)"
      ],
      "metadata": {
        "id": "7FKrBMqfWM7i"
      },
      "execution_count": null,
      "outputs": []
    },
    {
      "cell_type": "code",
      "source": [
        "# Interpretar o HTML com BeautifulSoup\n",
        "soup = BeautifulSoup(response.text, 'html.parser')"
      ],
      "metadata": {
        "id": "1VH5mn7jWONr"
      },
      "execution_count": null,
      "outputs": []
    },
    {
      "cell_type": "code",
      "source": [
        "# Localizar todas arcticles com a classe 'product_pod'\n",
        "produtos = soup.find_all('article', class_='product_pod')"
      ],
      "metadata": {
        "id": "laEwkMUfWPdS"
      },
      "execution_count": null,
      "outputs": []
    },
    {
      "cell_type": "code",
      "source": [
        "precos = []\n",
        "disponibilidade = 0\n",
        "\n",
        "for produto in produtos:\n",
        "    preco_str = produto.find('p', class_='price_color').text.strip()  # Removendo espaços em branco\n",
        "    preco = preco_str[1:]  # Removendo símbolo da moeda, primeiro caractere\n",
        "    preco = ''.join(filter(lambda x: x.isdigit() or x == '.', preco)) # Removendo caracteres não numéricos\n",
        "\n",
        "    precos.append(float(preco))\n",
        "    disponibilidade += 1"
      ],
      "metadata": {
        "id": "USaowYftXVcb"
      },
      "execution_count": null,
      "outputs": []
    },
    {
      "cell_type": "code",
      "source": [
        "# 1. Preço médio dos livros\n",
        "preco_medio = sum(precos) / len(precos)"
      ],
      "metadata": {
        "id": "hQ2sEEIvXaxz"
      },
      "execution_count": null,
      "outputs": []
    },
    {
      "cell_type": "code",
      "source": [
        "# 2. Contagem de livros disponíveis\n",
        "contagem_livros = disponibilidade"
      ],
      "metadata": {
        "id": "dPcoNe_QXbKC"
      },
      "execution_count": null,
      "outputs": []
    },
    {
      "cell_type": "code",
      "source": [
        "# 3. Livros mais caros\n",
        "livros_com_preco = [(produto.h3.a['title'], preco) for produto, preco in zip(produtos, precos)]\n",
        "livros_mais_caros = sorted(livros_com_preco, key=lambda x: x[1], reverse=True)[:3]"
      ],
      "metadata": {
        "id": "3nkXCHUrXdba"
      },
      "execution_count": null,
      "outputs": []
    },
    {
      "cell_type": "code",
      "source": [
        "print(f'Preço médio dos livros: £{preco_medio:.2f}')\n",
        "print()\n",
        "print(f'Contagem de livros disponíveis: {contagem_livros}')\n",
        "print()\n",
        "print('3 livros mais caros:')\n",
        "for titulo, preco in livros_mais_caros:\n",
        "    print(f'Título: {titulo}, Preço: £{preco:.2f}')\n"
      ],
      "metadata": {
        "colab": {
          "base_uri": "https://localhost:8080/"
        },
        "id": "y_za2dqqXgB6",
        "outputId": "000db1f0-4194-42d2-c9f6-87a57fc3e24a"
      },
      "execution_count": null,
      "outputs": [
        {
          "output_type": "stream",
          "name": "stdout",
          "text": [
            "Preço médio dos livros: £31.04\n",
            "\n",
            "Contagem de livros disponíveis: 20\n",
            "\n",
            "3 livros mais caros:\n",
            "Título: The Perfect Play (Play by Play #1), Preço: £59.99\n",
            "Título: Suddenly in Love (Lake Haven #1), Preço: £55.99\n",
            "Título: Take Me Home Tonight (Rock Star Romance #3), Preço: £53.98\n"
          ]
        }
      ]
    },
    {
      "cell_type": "markdown",
      "source": [
        "Após realizar o web scraping do site, obtivemos as seguintes informações:\n",
        "\n",
        "1. Preço médio dos livros: O preço médio de todos os livros listados é de `£59.99.`\n",
        "\n",
        "2. Contagem de livros disponíveis: No total, encontramos 20 livros disponíveis em estoque nesta página.\n",
        "\n",
        "3. Livros mais caros: Os três livros com os preços mais altos são:\n",
        "\n",
        "Título: \"The Perfect Play\", Preço: `£59.99.`\n",
        "\n",
        "Título: \"Suddenly in Love\", Preço: `£55.99.`\n",
        "\n",
        "Título: \"Take me Home Tonight\", Preço: `£53.98.`\n"
      ],
      "metadata": {
        "id": "z27YlwcIysPi"
      }
    }
  ]
}